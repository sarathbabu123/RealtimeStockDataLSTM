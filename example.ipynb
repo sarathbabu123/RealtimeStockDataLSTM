{
 "cells": [
  {
   "cell_type": "code",
   "execution_count": 27,
   "metadata": {},
   "outputs": [
    {
     "name": "stdout",
     "output_type": "stream",
     "text": [
      "[*********************100%%**********************]  1 of 1 completed\n",
      "                                  Open         High          Low        Close  \\\n",
      "Datetime                                                                        \n",
      "2023-10-27 09:15:00+05:30  2241.649902  2244.399902  2238.899902  2244.399902   \n",
      "2023-10-27 09:16:00+05:30  2244.899902  2245.949951  2241.899902  2241.899902   \n",
      "2023-10-27 09:17:00+05:30  2241.899902  2242.300049  2238.449951  2239.850098   \n",
      "2023-10-27 09:18:00+05:30  2239.600098  2240.100098  2238.399902  2238.600098   \n",
      "2023-10-27 09:19:00+05:30  2238.600098  2241.250000  2236.050049  2240.000000   \n",
      "...                                ...          ...          ...          ...   \n",
      "2023-10-27 15:25:00+05:30  2263.850098  2266.500000  2263.649902  2266.500000   \n",
      "2023-10-27 15:26:00+05:30  2264.699951  2266.850098  2264.699951  2265.600098   \n",
      "2023-10-27 15:27:00+05:30  2265.600098  2266.000000  2263.600098  2263.600098   \n",
      "2023-10-27 15:28:00+05:30  2263.000000  2263.850098  2263.000000  2263.000000   \n",
      "2023-10-27 15:29:00+05:30  2263.000000  2267.600098  2263.000000  2265.250000   \n",
      "\n",
      "                             Adj Close  Volume  \n",
      "Datetime                                        \n",
      "2023-10-27 09:15:00+05:30  2244.399902    3934  \n",
      "2023-10-27 09:16:00+05:30  2241.899902    6752  \n",
      "2023-10-27 09:17:00+05:30  2239.850098    8305  \n",
      "2023-10-27 09:18:00+05:30  2238.600098    1241  \n",
      "2023-10-27 09:19:00+05:30  2240.000000     588  \n",
      "...                                ...     ...  \n",
      "2023-10-27 15:25:00+05:30  2266.500000     257  \n",
      "2023-10-27 15:26:00+05:30  2265.600098     221  \n",
      "2023-10-27 15:27:00+05:30  2263.600098    1495  \n",
      "2023-10-27 15:28:00+05:30  2263.000000     801  \n",
      "2023-10-27 15:29:00+05:30  2265.250000    1047  \n",
      "\n",
      "[375 rows x 6 columns]\n"
     ]
    }
   ],
   "source": [
    "import numpy as np\n",
    "import pandas as pd\n",
    "import yfinance as yf\n",
    "from matplotlib import pyplot as plt\n",
    "from sklearn.preprocessing import MinMaxScaler\n",
    "from keras.models import load_model\n",
    "import plotly.graph_objs as go\n",
    "ticker = \"RELIANCE.BO\"\n",
    "end_date = pd.Timestamp.now(tz=\"Asia/Kolkata\").replace(hour=0, minute=0, second=0, microsecond=0)  # Set time to midnight to include today's data\n",
    "start_date = end_date - pd.DateOffset(days=2)\n",
    "realdata = yf.download(ticker, start=start_date, end=end_date, interval=\"1m\")\n",
    "print(realdata)"
   ]
  },
  {
   "cell_type": "code",
   "execution_count": 2,
   "metadata": {},
   "outputs": [
    {
     "data": {
      "text/html": [
       "<div>\n",
       "<style scoped>\n",
       "    .dataframe tbody tr th:only-of-type {\n",
       "        vertical-align: middle;\n",
       "    }\n",
       "\n",
       "    .dataframe tbody tr th {\n",
       "        vertical-align: top;\n",
       "    }\n",
       "\n",
       "    .dataframe thead th {\n",
       "        text-align: right;\n",
       "    }\n",
       "</style>\n",
       "<table border=\"1\" class=\"dataframe\">\n",
       "  <thead>\n",
       "    <tr style=\"text-align: right;\">\n",
       "      <th></th>\n",
       "      <th>Datetime</th>\n",
       "      <th>Open</th>\n",
       "      <th>High</th>\n",
       "      <th>Low</th>\n",
       "      <th>Close</th>\n",
       "      <th>Adj Close</th>\n",
       "      <th>Volume</th>\n",
       "    </tr>\n",
       "  </thead>\n",
       "  <tbody>\n",
       "    <tr>\n",
       "      <th>0</th>\n",
       "      <td>2023-10-20 09:15:00+05:30</td>\n",
       "      <td>2301.000000</td>\n",
       "      <td>2302.050049</td>\n",
       "      <td>2297.449951</td>\n",
       "      <td>2299.649902</td>\n",
       "      <td>2299.649902</td>\n",
       "      <td>4993</td>\n",
       "    </tr>\n",
       "    <tr>\n",
       "      <th>1</th>\n",
       "      <td>2023-10-20 09:16:00+05:30</td>\n",
       "      <td>2299.600098</td>\n",
       "      <td>2301.399902</td>\n",
       "      <td>2299.050049</td>\n",
       "      <td>2299.050049</td>\n",
       "      <td>2299.050049</td>\n",
       "      <td>1025</td>\n",
       "    </tr>\n",
       "    <tr>\n",
       "      <th>2</th>\n",
       "      <td>2023-10-20 09:17:00+05:30</td>\n",
       "      <td>2299.149902</td>\n",
       "      <td>2303.399902</td>\n",
       "      <td>2299.149902</td>\n",
       "      <td>2303.300049</td>\n",
       "      <td>2303.300049</td>\n",
       "      <td>1176</td>\n",
       "    </tr>\n",
       "    <tr>\n",
       "      <th>3</th>\n",
       "      <td>2023-10-20 09:18:00+05:30</td>\n",
       "      <td>2302.699951</td>\n",
       "      <td>2305.000000</td>\n",
       "      <td>2302.000000</td>\n",
       "      <td>2305.000000</td>\n",
       "      <td>2305.000000</td>\n",
       "      <td>971</td>\n",
       "    </tr>\n",
       "    <tr>\n",
       "      <th>4</th>\n",
       "      <td>2023-10-20 09:19:00+05:30</td>\n",
       "      <td>2305.550049</td>\n",
       "      <td>2306.250000</td>\n",
       "      <td>2304.199951</td>\n",
       "      <td>2305.000000</td>\n",
       "      <td>2305.000000</td>\n",
       "      <td>869</td>\n",
       "    </tr>\n",
       "    <tr>\n",
       "      <th>...</th>\n",
       "      <td>...</td>\n",
       "      <td>...</td>\n",
       "      <td>...</td>\n",
       "      <td>...</td>\n",
       "      <td>...</td>\n",
       "      <td>...</td>\n",
       "      <td>...</td>\n",
       "    </tr>\n",
       "    <tr>\n",
       "      <th>1492</th>\n",
       "      <td>2023-10-26 15:25:00+05:30</td>\n",
       "      <td>2225.600098</td>\n",
       "      <td>2226.199951</td>\n",
       "      <td>2224.000000</td>\n",
       "      <td>2225.000000</td>\n",
       "      <td>2225.000000</td>\n",
       "      <td>1851</td>\n",
       "    </tr>\n",
       "    <tr>\n",
       "      <th>1493</th>\n",
       "      <td>2023-10-26 15:26:00+05:30</td>\n",
       "      <td>2224.750000</td>\n",
       "      <td>2225.500000</td>\n",
       "      <td>2223.649902</td>\n",
       "      <td>2224.000000</td>\n",
       "      <td>2224.000000</td>\n",
       "      <td>2220</td>\n",
       "    </tr>\n",
       "    <tr>\n",
       "      <th>1494</th>\n",
       "      <td>2023-10-26 15:27:00+05:30</td>\n",
       "      <td>2225.000000</td>\n",
       "      <td>2225.000000</td>\n",
       "      <td>2223.100098</td>\n",
       "      <td>2224.000000</td>\n",
       "      <td>2224.000000</td>\n",
       "      <td>2283</td>\n",
       "    </tr>\n",
       "    <tr>\n",
       "      <th>1495</th>\n",
       "      <td>2023-10-26 15:28:00+05:30</td>\n",
       "      <td>2225.000000</td>\n",
       "      <td>2225.000000</td>\n",
       "      <td>2222.050049</td>\n",
       "      <td>2224.000000</td>\n",
       "      <td>2224.000000</td>\n",
       "      <td>3520</td>\n",
       "    </tr>\n",
       "    <tr>\n",
       "      <th>1496</th>\n",
       "      <td>2023-10-26 15:29:00+05:30</td>\n",
       "      <td>2224.000000</td>\n",
       "      <td>2225.000000</td>\n",
       "      <td>2222.000000</td>\n",
       "      <td>2224.949951</td>\n",
       "      <td>2224.949951</td>\n",
       "      <td>3520</td>\n",
       "    </tr>\n",
       "  </tbody>\n",
       "</table>\n",
       "<p>1497 rows × 7 columns</p>\n",
       "</div>"
      ],
      "text/plain": [
       "                       Datetime         Open         High          Low  \\\n",
       "0     2023-10-20 09:15:00+05:30  2301.000000  2302.050049  2297.449951   \n",
       "1     2023-10-20 09:16:00+05:30  2299.600098  2301.399902  2299.050049   \n",
       "2     2023-10-20 09:17:00+05:30  2299.149902  2303.399902  2299.149902   \n",
       "3     2023-10-20 09:18:00+05:30  2302.699951  2305.000000  2302.000000   \n",
       "4     2023-10-20 09:19:00+05:30  2305.550049  2306.250000  2304.199951   \n",
       "...                         ...          ...          ...          ...   \n",
       "1492  2023-10-26 15:25:00+05:30  2225.600098  2226.199951  2224.000000   \n",
       "1493  2023-10-26 15:26:00+05:30  2224.750000  2225.500000  2223.649902   \n",
       "1494  2023-10-26 15:27:00+05:30  2225.000000  2225.000000  2223.100098   \n",
       "1495  2023-10-26 15:28:00+05:30  2225.000000  2225.000000  2222.050049   \n",
       "1496  2023-10-26 15:29:00+05:30  2224.000000  2225.000000  2222.000000   \n",
       "\n",
       "            Close    Adj Close  Volume  \n",
       "0     2299.649902  2299.649902    4993  \n",
       "1     2299.050049  2299.050049    1025  \n",
       "2     2303.300049  2303.300049    1176  \n",
       "3     2305.000000  2305.000000     971  \n",
       "4     2305.000000  2305.000000     869  \n",
       "...           ...          ...     ...  \n",
       "1492  2225.000000  2225.000000    1851  \n",
       "1493  2224.000000  2224.000000    2220  \n",
       "1494  2224.000000  2224.000000    2283  \n",
       "1495  2224.000000  2224.000000    3520  \n",
       "1496  2224.949951  2224.949951    3520  \n",
       "\n",
       "[1497 rows x 7 columns]"
      ]
     },
     "execution_count": 2,
     "metadata": {},
     "output_type": "execute_result"
    }
   ],
   "source": [
    "seven_data = pd.read_csv(\"Reliance_data_7days.csv\")\n",
    "seven_data"
   ]
  },
  {
   "cell_type": "code",
   "execution_count": 3,
   "metadata": {},
   "outputs": [],
   "source": [
    "realtimedata = realdata.Close"
   ]
  },
  {
   "cell_type": "code",
   "execution_count": 4,
   "metadata": {},
   "outputs": [],
   "source": [
    "model = load_model('keras_model1.h5')"
   ]
  },
  {
   "cell_type": "code",
   "execution_count": 5,
   "metadata": {},
   "outputs": [],
   "source": [
    "past_hund_data = seven_data.tail(100)\n",
    "# past_hund_data"
   ]
  },
  {
   "cell_type": "code",
   "execution_count": 6,
   "metadata": {},
   "outputs": [],
   "source": [
    "past_hund_data = past_hund_data.Close\n"
   ]
  },
  {
   "cell_type": "code",
   "execution_count": 7,
   "metadata": {},
   "outputs": [
    {
     "data": {
      "text/plain": [
       "1397    2225.649902\n",
       "1398    2225.399902\n",
       "1399    2226.000000\n",
       "1400    2224.899902\n",
       "1401    2225.899902\n",
       "           ...     \n",
       "1492    2225.000000\n",
       "1493    2224.000000\n",
       "1494    2224.000000\n",
       "1495    2224.000000\n",
       "1496    2224.949951\n",
       "Name: Close, Length: 100, dtype: float64"
      ]
     },
     "execution_count": 7,
     "metadata": {},
     "output_type": "execute_result"
    }
   ],
   "source": [
    "past_hund_data"
   ]
  },
  {
   "cell_type": "code",
   "execution_count": 8,
   "metadata": {},
   "outputs": [],
   "source": [
    "sc = MinMaxScaler(feature_range = (0, 1))"
   ]
  },
  {
   "cell_type": "code",
   "execution_count": 12,
   "metadata": {},
   "outputs": [
    {
     "name": "stderr",
     "output_type": "stream",
     "text": [
      "C:\\Users\\Sarath Babu\\AppData\\Local\\Temp\\ipykernel_13048\\4260947181.py:3: FutureWarning: The series.append method is deprecated and will be removed from pandas in a future version. Use pandas.concat instead.\n",
      "  final_df = past_hund_data.append(realtimedata,ignore_index = True)\n"
     ]
    },
    {
     "data": {
      "text/plain": [
       "0      2225.649902\n",
       "1      2225.399902\n",
       "2      2226.000000\n",
       "3      2224.899902\n",
       "4      2225.899902\n",
       "          ...     \n",
       "470    2266.500000\n",
       "471    2265.600098\n",
       "472    2263.600098\n",
       "473    2263.000000\n",
       "474    2265.250000\n",
       "Name: Close, Length: 475, dtype: float64"
      ]
     },
     "execution_count": 12,
     "metadata": {},
     "output_type": "execute_result"
    }
   ],
   "source": [
    "x_test=[]\n",
    "y_test=[]\n",
    "final_df = past_hund_data.append(realtimedata,ignore_index = True)\n",
    "final_df"
   ]
  },
  {
   "cell_type": "code",
   "execution_count": 16,
   "metadata": {},
   "outputs": [
    {
     "data": {
      "text/plain": [
       "(475, 1)"
      ]
     },
     "execution_count": 16,
     "metadata": {},
     "output_type": "execute_result"
    }
   ],
   "source": [
    "final_df_2d = final_df.values.reshape(-1, 1)\n",
    "final_df_2d.shape"
   ]
  },
  {
   "cell_type": "code",
   "execution_count": 17,
   "metadata": {},
   "outputs": [],
   "source": [
    "input_data =sc.fit_transform(final_df_2d)"
   ]
  },
  {
   "cell_type": "code",
   "execution_count": 18,
   "metadata": {},
   "outputs": [],
   "source": [
    "x_test =[]\n",
    "y_test=[]\n",
    "\n",
    "for i in range(100,input_data.shape[0]):\n",
    "  x_test.append(input_data[i-100:i])\n",
    "  y_test.append(input_data[i,0])"
   ]
  },
  {
   "cell_type": "code",
   "execution_count": 19,
   "metadata": {},
   "outputs": [
    {
     "data": {
      "text/plain": [
       "((375, 100, 1), (375,))"
      ]
     },
     "execution_count": 19,
     "metadata": {},
     "output_type": "execute_result"
    }
   ],
   "source": [
    "x_test,y_test = np.array(x_test),np.array(y_test)\n",
    "x_test.shape,y_test.shape"
   ]
  },
  {
   "cell_type": "code",
   "execution_count": 20,
   "metadata": {},
   "outputs": [
    {
     "name": "stdout",
     "output_type": "stream",
     "text": [
      "12/12 [==============================] - 2s 59ms/step\n"
     ]
    }
   ],
   "source": [
    "y_predicted = model.predict(x_test)"
   ]
  },
  {
   "cell_type": "code",
   "execution_count": 21,
   "metadata": {},
   "outputs": [
    {
     "data": {
      "text/plain": [
       "(375, 1)"
      ]
     },
     "execution_count": 21,
     "metadata": {},
     "output_type": "execute_result"
    }
   ],
   "source": [
    "y_predicted.shape"
   ]
  },
  {
   "cell_type": "code",
   "execution_count": 24,
   "metadata": {},
   "outputs": [],
   "source": [
    "scaler = sc.scale_"
   ]
  },
  {
   "cell_type": "code",
   "execution_count": 25,
   "metadata": {},
   "outputs": [],
   "source": [
    "scale_factor = 1/scaler[0]\n",
    "y_predicted = y_predicted*scale_factor\n",
    "y_test = y_test*scale_factor"
   ]
  },
  {
   "cell_type": "code",
   "execution_count": 26,
   "metadata": {},
   "outputs": [
    {
     "ename": "NameError",
     "evalue": "name 'plt' is not defined",
     "output_type": "error",
     "traceback": [
      "\u001b[1;31m---------------------------------------------------------------------------\u001b[0m",
      "\u001b[1;31mNameError\u001b[0m                                 Traceback (most recent call last)",
      "\u001b[1;32mc:\\Users\\Sarath Babu\\OneDrive\\Documents\\CODING\\Jupyter\\Webapp\\example.ipynb Cell 18\u001b[0m line \u001b[0;36m1\n\u001b[1;32m----> <a href='vscode-notebook-cell:/c%3A/Users/Sarath%20Babu/OneDrive/Documents/CODING/Jupyter/Webapp/example.ipynb#X23sZmlsZQ%3D%3D?line=0'>1</a>\u001b[0m plt\u001b[39m.\u001b[39mfigure(figsize\u001b[39m=\u001b[39m(\u001b[39m12\u001b[39m,\u001b[39m6\u001b[39m))\n\u001b[0;32m      <a href='vscode-notebook-cell:/c%3A/Users/Sarath%20Babu/OneDrive/Documents/CODING/Jupyter/Webapp/example.ipynb#X23sZmlsZQ%3D%3D?line=1'>2</a>\u001b[0m plt\u001b[39m.\u001b[39mplot(y_test,\u001b[39m'\u001b[39m\u001b[39mb\u001b[39m\u001b[39m'\u001b[39m,label \u001b[39m=\u001b[39m \u001b[39m'\u001b[39m\u001b[39mOriginal Price\u001b[39m\u001b[39m'\u001b[39m)\n\u001b[0;32m      <a href='vscode-notebook-cell:/c%3A/Users/Sarath%20Babu/OneDrive/Documents/CODING/Jupyter/Webapp/example.ipynb#X23sZmlsZQ%3D%3D?line=2'>3</a>\u001b[0m plt\u001b[39m.\u001b[39mplot(y_predicted,\u001b[39m'\u001b[39m\u001b[39mr\u001b[39m\u001b[39m'\u001b[39m,label \u001b[39m=\u001b[39m \u001b[39m'\u001b[39m\u001b[39mPredicted Price\u001b[39m\u001b[39m'\u001b[39m)\n",
      "\u001b[1;31mNameError\u001b[0m: name 'plt' is not defined"
     ]
    }
   ],
   "source": [
    "plt.figure(figsize=(12,6))\n",
    "plt.plot(y_test,'b',label = 'Original Price')\n",
    "plt.plot(y_predicted,'r',label = 'Predicted Price')\n",
    "plt.xlabel('Time')\n",
    "plt.ylabel('Price')\n",
    "plt.legend()\n",
    "plt.show()"
   ]
  },
  {
   "cell_type": "code",
   "execution_count": null,
   "metadata": {},
   "outputs": [],
   "source": []
  }
 ],
 "metadata": {
  "kernelspec": {
   "display_name": "Python 3",
   "language": "python",
   "name": "python3"
  },
  "language_info": {
   "codemirror_mode": {
    "name": "ipython",
    "version": 3
   },
   "file_extension": ".py",
   "mimetype": "text/x-python",
   "name": "python",
   "nbconvert_exporter": "python",
   "pygments_lexer": "ipython3",
   "version": "3.10.11"
  }
 },
 "nbformat": 4,
 "nbformat_minor": 2
}
